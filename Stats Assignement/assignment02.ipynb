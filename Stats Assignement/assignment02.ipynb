{
 "cells": [
  {
   "cell_type": "code",
   "execution_count": null,
   "id": "041ccb12",
   "metadata": {},
   "outputs": [],
   "source": [
    "1.\n",
    "We have to use Poisson distribution because in Poisson distribution we search for how many ties no of event take place.\n",
    "P(X=0) = ((100/20)^0/0!)*e^-100/20 = e^-5"
   ]
  },
  {
   "cell_type": "code",
   "execution_count": null,
   "id": "fe620a43",
   "metadata": {},
   "outputs": [],
   "source": [
    "2.\n",
    "X and Y have similar distribution.\n",
    "P(X<Y) = 1/7+1/7+1/7+1/7+1/7+1/7 = 6/7"
   ]
  }
 ],
 "metadata": {
  "kernelspec": {
   "display_name": "Python 3 (ipykernel)",
   "language": "python",
   "name": "python3"
  },
  "language_info": {
   "codemirror_mode": {
    "name": "ipython",
    "version": 3
   },
   "file_extension": ".py",
   "mimetype": "text/x-python",
   "name": "python",
   "nbconvert_exporter": "python",
   "pygments_lexer": "ipython3",
   "version": "3.9.12"
  }
 },
 "nbformat": 4,
 "nbformat_minor": 5
}
