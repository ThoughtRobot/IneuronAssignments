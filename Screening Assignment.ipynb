{
 "cells": [
  {
   "cell_type": "code",
   "execution_count": 10,
   "id": "0b03ceb3",
   "metadata": {},
   "outputs": [],
   "source": [
    "1. \n",
    "def readFunc(filename):\n",
    "    try:\n",
    "        with open(f\"{filename}.txt\", 'r') as file:\n",
    "            contents = file.read()\n",
    "        contents = contents.replace('placement', 'screening')\n",
    "        print('Changes Done!!')\n",
    "        with open(f\"{filename}.txt\", 'w') as file:\n",
    "            file.write(contents)\n",
    "    finally:\n",
    "        file.close()"
   ]
  },
  {
   "cell_type": "code",
   "execution_count": 11,
   "id": "2c93395c",
   "metadata": {},
   "outputs": [
    {
     "name": "stdout",
     "output_type": "stream",
     "text": [
      "Changes Done!!\n"
     ]
    }
   ],
   "source": [
    "readFunc('example')"
   ]
  },
  {
   "cell_type": "code",
   "execution_count": 18,
   "id": "32d1b979",
   "metadata": {},
   "outputs": [
    {
     "name": "stdout",
     "output_type": "stream",
     "text": [
      "shot\n"
     ]
    }
   ],
   "source": [
    "2.\n",
    "#Abstractation\n",
    "from abc import ABC,abstractclassmethod\n",
    "\n",
    "class Ball(ABC):\n",
    "\n",
    "    @abstractclassmethod\n",
    "    def throw(self):\n",
    "        pass\n",
    "\n",
    "#object creation is not possible, throws an error\n",
    "#obj_ball = Ball()      \n",
    "\n",
    "class Bat(Ball):\n",
    "    \n",
    "    def throw(self):\n",
    "        print('shot')\n",
    "        \n",
    "obj_bat = Bat()\n",
    "obj_bat.throw()"
   ]
  },
  {
   "cell_type": "code",
   "execution_count": 20,
   "id": "39eb2acd",
   "metadata": {},
   "outputs": [
    {
     "name": "stdout",
     "output_type": "stream",
     "text": [
      "Man class\n",
      "Women class\n",
      "Child class\n"
     ]
    }
   ],
   "source": [
    "#Multiple inheritance\n",
    "\n",
    "class Man:\n",
    "    def eat(self):\n",
    "        print('Man class')\n",
    "        \n",
    "class Women(Man):\n",
    "    def sleep(self):\n",
    "        print('Women class')\n",
    "        \n",
    "class Child(Women):\n",
    "    def cry(self):\n",
    "        print('Child class')\n",
    "\n",
    "#creating object of child class        \n",
    "obj_child = Child()\n",
    "# all methods are accessible\n",
    "obj_child.eat()\n",
    "obj_child.sleep()\n",
    "obj_child.cry()\n",
    "    "
   ]
  },
  {
   "cell_type": "code",
   "execution_count": 8,
   "id": "5eaa4fe3",
   "metadata": {},
   "outputs": [
    {
     "name": "stdout",
     "output_type": "stream",
     "text": [
      "3.0\n"
     ]
    }
   ],
   "source": [
    "#Decorators\n",
    "\n",
    "#a custom decorator\n",
    "def check(func):\n",
    "    def inside(a,b):\n",
    "        if a < b:\n",
    "            a,b = b,a\n",
    "        return func(a,b)\n",
    "    return inside\n",
    "\n",
    "#implementing the decorator\n",
    "@check\n",
    "def div(a,b):\n",
    "    print(a/b)\n",
    "\n",
    "div(2,6)\n"
   ]
  },
  {
   "cell_type": "code",
   "execution_count": null,
   "id": "fddaf2a7",
   "metadata": {},
   "outputs": [],
   "source": []
  }
 ],
 "metadata": {
  "kernelspec": {
   "display_name": "Python 3 (ipykernel)",
   "language": "python",
   "name": "python3"
  },
  "language_info": {
   "codemirror_mode": {
    "name": "ipython",
    "version": 3
   },
   "file_extension": ".py",
   "mimetype": "text/x-python",
   "name": "python",
   "nbconvert_exporter": "python",
   "pygments_lexer": "ipython3",
   "version": "3.9.12"
  }
 },
 "nbformat": 4,
 "nbformat_minor": 5
}
