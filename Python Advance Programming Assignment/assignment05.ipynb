{
 "cells": [
  {
   "cell_type": "code",
   "execution_count": 22,
   "id": "a83b30ac",
   "metadata": {},
   "outputs": [
    {
     "data": {
      "text/plain": [
       "8"
      ]
     },
     "execution_count": 22,
     "metadata": {},
     "output_type": "execute_result"
    }
   ],
   "source": [
    "1.\n",
    "def f(num):   \n",
    "    a = (int(num / 2) * 2 == num)\n",
    "    if a:\n",
    "        return 8\n",
    "    return 2\n",
    "f(2)"
   ]
  },
  {
   "cell_type": "code",
   "execution_count": 55,
   "id": "50fec248",
   "metadata": {},
   "outputs": [
    {
     "data": {
      "text/plain": [
       "'None'"
      ]
     },
     "execution_count": 55,
     "metadata": {},
     "output_type": "execute_result"
    }
   ],
   "source": [
    "2.\n",
    "def majority_vote(lst):\n",
    "    items = {}\n",
    "    for i in lst:\n",
    "        items.update({lst.count(i):i})\n",
    "    return 'None' if len(lst)/2 > max(items.keys()) else items[max(items.keys())]\n",
    "majority_vote(['A','A','B','B','C','C'])"
   ]
  },
  {
   "cell_type": "code",
   "execution_count": 64,
   "id": "c803f8bb",
   "metadata": {},
   "outputs": [
    {
     "data": {
      "text/plain": [
       "'The *** jumped **** the moon.'"
      ]
     },
     "execution_count": 64,
     "metadata": {},
     "output_type": "execute_result"
    }
   ],
   "source": [
    "3.\n",
    "def censor_string(sen,lst,char):\n",
    "    for word in lst:\n",
    "        if word in sen:\n",
    "            sen = sen.replace(word,char*len(word))\n",
    "    return sen\n",
    "censor_string(\"The cow jumped over the moon.\", [\"cow\", \"over\"], \"*\")"
   ]
  },
  {
   "cell_type": "code",
   "execution_count": 9,
   "id": "fcc0887a",
   "metadata": {},
   "outputs": [
    {
     "data": {
      "text/plain": [
       "True"
      ]
     },
     "execution_count": 9,
     "metadata": {},
     "output_type": "execute_result"
    }
   ],
   "source": [
    "4.\n",
    "def is_polydivisible(num):\n",
    "    num = str(num)\n",
    "    for i in range(len(num)):\n",
    "        if int(num[:i+1]) % (i+1) != 0:\n",
    "            return False\n",
    "    return True  \n",
    "is_polydivisible(1232)"
   ]
  },
  {
   "cell_type": "code",
   "execution_count": 18,
   "id": "f7a9ad37",
   "metadata": {},
   "outputs": [
    {
     "data": {
      "text/plain": [
       "87"
      ]
     },
     "execution_count": 18,
     "metadata": {},
     "output_type": "execute_result"
    }
   ],
   "source": [
    "5.\n",
    "def sum_primes(l):\n",
    "    primeNum = []\n",
    "    for item in l:\n",
    "        is_prime = True\n",
    "        if(item >= 2):\n",
    "            maxInt = int(item ** 0.5) + 1\n",
    "            for i in range(2, maxInt):\n",
    "                if(item % i == 0):\n",
    "                    is_prime = False\n",
    "                    break\n",
    "            if(is_prime):\n",
    "                primeNum.append(item)\n",
    "    return(sum(primeNum))\n",
    "\n",
    "sum_primes([2, 3, 4, 11, 20, 50, 71])"
   ]
  },
  {
   "cell_type": "code",
   "execution_count": null,
   "id": "3a2ba985",
   "metadata": {},
   "outputs": [],
   "source": [
    "def isEven(n) :\n",
    "return (n & 1);\n",
    "\n",
    "n = int(input(“Enter a number : “))\n",
    "if(isEven(n) == 0):\n",
    "print (“Even”)\n",
    "else :\n",
    "print (“Odd”)\n"
   ]
  }
 ],
 "metadata": {
  "kernelspec": {
   "display_name": "Python 3 (ipykernel)",
   "language": "python",
   "name": "python3"
  },
  "language_info": {
   "codemirror_mode": {
    "name": "ipython",
    "version": 3
   },
   "file_extension": ".py",
   "mimetype": "text/x-python",
   "name": "python",
   "nbconvert_exporter": "python",
   "pygments_lexer": "ipython3",
   "version": "3.9.12"
  }
 },
 "nbformat": 4,
 "nbformat_minor": 5
}
