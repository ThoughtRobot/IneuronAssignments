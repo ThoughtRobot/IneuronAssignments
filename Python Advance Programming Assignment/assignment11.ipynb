{
 "cells": [
  {
   "cell_type": "code",
   "execution_count": 30,
   "id": "d598e6d0",
   "metadata": {},
   "outputs": [
    {
     "data": {
      "text/plain": [
       "[10007, 1009]"
      ]
     },
     "execution_count": 30,
     "metadata": {},
     "output_type": "execute_result"
    }
   ],
   "source": [
    "1.\n",
    "def filter_primes(lst):\n",
    "    prime = []\n",
    "    for num in lst:\n",
    "        c = 0\n",
    "        for i in range(2,num):\n",
    "            if (num % i) == 0:\n",
    "                c+=1\n",
    "        if c == 0:\n",
    "            prime.append(num)\n",
    "    return prime\n",
    "\n",
    "filter_primes([10007, 1009, 1007, 27, 147, 77, 1001, 70])"
   ]
  },
  {
   "cell_type": "code",
   "execution_count": 45,
   "id": "beef068a",
   "metadata": {},
   "outputs": [
    {
     "data": {
      "text/plain": [
       "[0, 1, 2, 3, 4, 3, 2, 1, 0]"
      ]
     },
     "execution_count": 45,
     "metadata": {},
     "output_type": "execute_result"
    }
   ],
   "source": [
    "2.\n",
    "def pop(lst):\n",
    "    mid = (len(lst) - 1)//2\n",
    "    flat = []\n",
    "    for i in range(0,mid):\n",
    "        flat.append(i)\n",
    "    for j in range(mid,-1,-1):\n",
    "        flat.append(j)\n",
    "    return flat\n",
    "\n",
    "pop([0, 0, 0, 0, 4, 0, 0, 0, 0])"
   ]
  },
  {
   "cell_type": "code",
   "execution_count": 54,
   "id": "a4fe5310",
   "metadata": {},
   "outputs": [
    {
     "data": {
      "text/plain": [
       "'Loves me,Loves me not,LOVES ME'"
      ]
     },
     "execution_count": 54,
     "metadata": {},
     "output_type": "execute_result"
    }
   ],
   "source": [
    "3.\n",
    "def loves_me(num):\n",
    "    lst = []\n",
    "    for i in range(num):\n",
    "        if i%2 == 0:\n",
    "            lst.append('Loves me')\n",
    "        elif i%2 !=0:\n",
    "            lst.append('Loves me not')\n",
    "    lst[-1] = lst[-1].upper()\n",
    "    return \",\".join(lst)\n",
    "\n",
    "loves_me(3)\n",
    "            "
   ]
  },
  {
   "cell_type": "code",
   "execution_count": 80,
   "id": "e66b85e8",
   "metadata": {},
   "outputs": [
    {
     "data": {
      "text/plain": [
       "['2344b', '932c', '832u32']"
      ]
     },
     "execution_count": 80,
     "metadata": {},
     "output_type": "execute_result"
    }
   ],
   "source": [
    "4.\n",
    "def sort_by_letter(lst):\n",
    "    alp = []\n",
    "    let = []\n",
    "    for val in lst:\n",
    "        for letter in val:\n",
    "            if letter.isalpha():\n",
    "                alp.append(letter)\n",
    "    alp = sorted(alp)\n",
    "    for i in alp:\n",
    "        for j in lst:\n",
    "            for k in j:\n",
    "                if i in k:\n",
    "                    let.append(j)\n",
    "    return let\n",
    "\n",
    "sort_by_letter([\"932c\", \"832u32\", \"2344b\"])"
   ]
  },
  {
   "cell_type": "code",
   "execution_count": 81,
   "id": "8102c17a",
   "metadata": {},
   "outputs": [
    {
     "data": {
      "text/plain": [
       "'C'"
      ]
     },
     "execution_count": 81,
     "metadata": {},
     "output_type": "execute_result"
    }
   ],
   "source": [
    "5.\n",
    "def cup_swapping(swaps):\n",
    "    ball = \"B\"\n",
    "    for move in swaps:\n",
    "        if ball in move:\n",
    "            ball = move[1] if move[0] == ball else move[0]\n",
    "    return ball\n",
    "\n",
    "cup_swapping([\"AB\", \"CA\", \"AB\"])"
   ]
  },
  {
   "cell_type": "code",
   "execution_count": null,
   "id": "7ad54a07",
   "metadata": {},
   "outputs": [],
   "source": []
  }
 ],
 "metadata": {
  "kernelspec": {
   "display_name": "Python 3 (ipykernel)",
   "language": "python",
   "name": "python3"
  },
  "language_info": {
   "codemirror_mode": {
    "name": "ipython",
    "version": 3
   },
   "file_extension": ".py",
   "mimetype": "text/x-python",
   "name": "python",
   "nbconvert_exporter": "python",
   "pygments_lexer": "ipython3",
   "version": "3.9.12"
  }
 },
 "nbformat": 4,
 "nbformat_minor": 5
}
