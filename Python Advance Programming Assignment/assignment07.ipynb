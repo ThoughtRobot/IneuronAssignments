{
 "cells": [
  {
   "cell_type": "code",
   "execution_count": 6,
   "id": "ae052ce8",
   "metadata": {},
   "outputs": [
    {
     "data": {
      "text/plain": [
       "2"
      ]
     },
     "execution_count": 6,
     "metadata": {},
     "output_type": "execute_result"
    }
   ],
   "source": [
    "1.\n",
    "def count_layers(con):\n",
    "    if con == con[::-1]:\n",
    "        layers = (len(con) +  1)/2\n",
    "    return int(layers)\n",
    "\n",
    "count_layers([\"AAAA\",\"ABBA\",\"AAAA\"])\n",
    "        "
   ]
  },
  {
   "cell_type": "code",
   "execution_count": 8,
   "id": "eb536b42",
   "metadata": {},
   "outputs": [
    {
     "data": {
      "text/plain": [
       "9"
      ]
     },
     "execution_count": 8,
     "metadata": {},
     "output_type": "execute_result"
    }
   ],
   "source": [
    "2.\n",
    "def unique_styles(styles):\n",
    "    unique = []\n",
    "    for val in styles:\n",
    "        for style in val.split(\",\"):\n",
    "            if style not in unique:\n",
    "                unique.append(style)\n",
    "    return len(unique)\n",
    "\n",
    "unique_styles([\n",
    "  \"Dub,Dancehall\",\n",
    "  \"Industrial,Heavy Metal\",\n",
    "  \"Techno,Dubstep\",\n",
    "  \"Synth-pop,Euro-Disco\",\n",
    "  \"Industrial,Techno,Minimal\"\n",
    "])\n"
   ]
  },
  {
   "cell_type": "code",
   "execution_count": 14,
   "id": "fda805c4",
   "metadata": {},
   "outputs": [
    {
     "data": {
      "text/plain": [
       "'yes'"
      ]
     },
     "execution_count": 14,
     "metadata": {},
     "output_type": "execute_result"
    }
   ],
   "source": [
    "3.\n",
    "primes = [2, 3, 5, 7, 11, 13, 17, 19, 23, 29, 31, 37, 41, 43, 47, 53, 59, 61, 67,\n",
    "71, 73, 79, 83, 89, 97]\n",
    "\n",
    "def is_prime(lst,num):\n",
    "    if num >= 2 and num <= 97:\n",
    "        start = 0\n",
    "        end = len(lst) - 1\n",
    "        while start <= end:\n",
    "            mid = (start + end)//2\n",
    "            if num == lst[mid]:\n",
    "                return \"yes\"\n",
    "            elif num < lst[mid]:\n",
    "                end = mid - 1\n",
    "            elif num > lst[mid]:\n",
    "                start = mid + 1\n",
    "            else:\n",
    "                return \"no\"\n",
    "\n",
    "is_prime(primes, 3)"
   ]
  },
  {
   "cell_type": "code",
   "execution_count": 21,
   "id": "c3dde1b3",
   "metadata": {},
   "outputs": [
    {
     "data": {
      "text/plain": [
       "3"
      ]
     },
     "execution_count": 21,
     "metadata": {},
     "output_type": "execute_result"
    }
   ],
   "source": [
    "4.\n",
    "def power_ranger(n,a,b):\n",
    "    count = 0 \n",
    "    for i in range(b):\n",
    "        if i**n in range(a,b+1): \n",
    "            count += 1 \n",
    "    return count\n",
    "\n",
    "power_ranger(4, 250, 1300)\n"
   ]
  },
  {
   "cell_type": "code",
   "execution_count": 64,
   "id": "6fb84ae5",
   "metadata": {},
   "outputs": [
    {
     "data": {
      "text/plain": [
       "90981"
      ]
     },
     "execution_count": 64,
     "metadata": {},
     "output_type": "execute_result"
    }
   ],
   "source": [
    "5.\n",
    "def rearranged_difference(num):\n",
    "    asc = []\n",
    "    desc = []\n",
    "    for i in str(num):\n",
    "        asc.append(int(i))\n",
    "        desc.append(int(i))\n",
    "        s= asc.sort()\n",
    "        t = desc.sort(reverse=True)\n",
    "    s = [str(i) for i in asc]\n",
    "    t = [str(j) for j in desc]\n",
    "    minimum = int(\"\".join(s))\n",
    "    maximum = int(\"\".join(t))\n",
    "    return maximum - minimum\n",
    "\n",
    "rearranged_difference(90010)"
   ]
  },
  {
   "cell_type": "code",
   "execution_count": null,
   "id": "19c1316d",
   "metadata": {},
   "outputs": [],
   "source": []
  },
  {
   "cell_type": "code",
   "execution_count": null,
   "id": "0b7cb767",
   "metadata": {},
   "outputs": [],
   "source": []
  },
  {
   "cell_type": "code",
   "execution_count": null,
   "id": "f91d7d19",
   "metadata": {},
   "outputs": [],
   "source": []
  },
  {
   "cell_type": "code",
   "execution_count": null,
   "id": "3dd1e463",
   "metadata": {},
   "outputs": [],
   "source": []
  }
 ],
 "metadata": {
  "kernelspec": {
   "display_name": "Python 3 (ipykernel)",
   "language": "python",
   "name": "python3"
  },
  "language_info": {
   "codemirror_mode": {
    "name": "ipython",
    "version": 3
   },
   "file_extension": ".py",
   "mimetype": "text/x-python",
   "name": "python",
   "nbconvert_exporter": "python",
   "pygments_lexer": "ipython3",
   "version": "3.9.12"
  }
 },
 "nbformat": 4,
 "nbformat_minor": 5
}
