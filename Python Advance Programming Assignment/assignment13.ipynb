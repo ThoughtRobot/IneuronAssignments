{
 "cells": [
  {
   "cell_type": "code",
   "execution_count": 92,
   "id": "cb5f537c",
   "metadata": {},
   "outputs": [
    {
     "data": {
      "text/plain": [
       "['b', 'g', 'w']"
      ]
     },
     "execution_count": 92,
     "metadata": {},
     "output_type": "execute_result"
    }
   ],
   "source": [
    "1.\n",
    "def remove_letters(lst,str1):\n",
    "    for val in str1:\n",
    "        if val in lst:\n",
    "            lst.remove(val)\n",
    "            \n",
    "    return list(lst)\n",
    "\n",
    "remove_letters([\"b\", \"b\", \"l\", \"l\", \"g\", \"n\", \"o\", \"a\", \"w\"], \"balloon\")"
   ]
  },
  {
   "cell_type": "code",
   "execution_count": 93,
   "id": "a6b53775",
   "metadata": {},
   "outputs": [
    {
     "data": {
      "text/plain": [
       "39"
      ]
     },
     "execution_count": 93,
     "metadata": {},
     "output_type": "execute_result"
    }
   ],
   "source": [
    "2.\n",
    "def blocks(steps):\n",
    "    if steps == 1:\n",
    "        return 5\n",
    "    else:\n",
    "        return blocks(steps-1) + blocks(1) + steps\n",
    "        \n",
    "blocks(5)\n",
    "   "
   ]
  },
  {
   "cell_type": "code",
   "execution_count": 94,
   "id": "b6de095d",
   "metadata": {},
   "outputs": [
    {
     "data": {
      "text/plain": [
       "4"
      ]
     },
     "execution_count": 94,
     "metadata": {},
     "output_type": "execute_result"
    }
   ],
   "source": [
    "3.\n",
    "def my_sub(num1,num2):\n",
    "    while (num1 != 0):\n",
    "        borrow = (~num2) & num1\n",
    "        num2 = num2 ^ num1\n",
    "        num1 = borrow << 1\n",
    "     \n",
    "    return num2\n",
    "my_sub(5,9)"
   ]
  },
  {
   "cell_type": "code",
   "execution_count": 95,
   "id": "69fbb9d7",
   "metadata": {},
   "outputs": [
    {
     "data": {
      "text/plain": [
       "2200"
      ]
     },
     "execution_count": 95,
     "metadata": {},
     "output_type": "execute_result"
    }
   ],
   "source": [
    "4.\n",
    "def add_bill(curr):\n",
    "    lst = []\n",
    "    add = 0\n",
    "    lst = curr.split(',')\n",
    "    for i in range(len(lst)):\n",
    "        if lst[i][0] == 'd' and lst[i][-1] != 'k':\n",
    "            add += int(lst[i][1:])\n",
    "        elif lst[i][0] == 'd' and lst[i][-1] == 'k':\n",
    "            add += (int(lst[i][1:-1]) * 1000)\n",
    "    return add\n",
    "\n",
    "add_bill(\"p30,d2k,p60,d200,p360\")\n",
    "    "
   ]
  },
  {
   "cell_type": "code",
   "execution_count": 107,
   "id": "52595acf",
   "metadata": {},
   "outputs": [
    {
     "data": {
      "text/plain": [
       "[[1], [2], [3], [4]]"
      ]
     },
     "execution_count": 107,
     "metadata": {},
     "output_type": "execute_result"
    }
   ],
   "source": [
    "5.\n",
    "def flip_list(lst):\n",
    "    if not lst:\n",
    "        return lst\n",
    "\n",
    "    is_vertical = isinstance(lst[0], list)\n",
    "    \n",
    "    if is_vertical:\n",
    "        return [el[0] for el in lst]\n",
    "    \n",
    "    return [[el] for el in lst]\n",
    "\n",
    "flip_list([1,2,3,4])"
   ]
  },
  {
   "cell_type": "code",
   "execution_count": null,
   "id": "c24c9a80",
   "metadata": {},
   "outputs": [],
   "source": []
  },
  {
   "cell_type": "code",
   "execution_count": null,
   "id": "53d87436",
   "metadata": {},
   "outputs": [],
   "source": []
  }
 ],
 "metadata": {
  "kernelspec": {
   "display_name": "Python 3",
   "language": "python",
   "name": "python3"
  },
  "language_info": {
   "codemirror_mode": {
    "name": "ipython",
    "version": 3
   },
   "file_extension": ".py",
   "mimetype": "text/x-python",
   "name": "python",
   "nbconvert_exporter": "python",
   "pygments_lexer": "ipython3",
   "version": "3.8.8"
  }
 },
 "nbformat": 4,
 "nbformat_minor": 5
}
