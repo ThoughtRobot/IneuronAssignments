{
 "cells": [
  {
   "cell_type": "code",
   "execution_count": 4,
   "id": "71f14fbc",
   "metadata": {},
   "outputs": [
    {
     "name": "stdout",
     "output_type": "stream",
     "text": [
      "1234!_\n",
      "11223344!!__"
     ]
    }
   ],
   "source": [
    "1.\n",
    "def double_char(str1):\n",
    "    for letter in str1:\n",
    "        yield letter*2\n",
    "        \n",
    "str1 = input()\n",
    "for val in double_char(str1):\n",
    "    print(val,end = \"\")\n"
   ]
  },
  {
   "cell_type": "code",
   "execution_count": 9,
   "id": "55a06b52",
   "metadata": {},
   "outputs": [
    {
     "name": "stdout",
     "output_type": "stream",
     "text": [
      "False\n"
     ]
    },
    {
     "data": {
      "text/plain": [
       "True"
      ]
     },
     "execution_count": 9,
     "metadata": {},
     "output_type": "execute_result"
    }
   ],
   "source": [
    "2.\n",
    "def reverse(val):\n",
    "    if val == \"True\":\n",
    "        return False\n",
    "    elif val == \"False\":\n",
    "        return True\n",
    "    else:\n",
    "        return \"boolean expected\"\n",
    "val = input()\n",
    "reverse(val)"
   ]
  },
  {
   "cell_type": "code",
   "execution_count": 4,
   "id": "7ddd3d47",
   "metadata": {},
   "outputs": [
    {
     "name": "stdout",
     "output_type": "stream",
     "text": [
      "4\n"
     ]
    },
    {
     "data": {
      "text/plain": [
       "'0.008m'"
      ]
     },
     "execution_count": 4,
     "metadata": {},
     "output_type": "execute_result"
    }
   ],
   "source": [
    "3.\n",
    "def num_layers(a):\n",
    "    res = 0.5\n",
    "    for _ in range(a):\n",
    "        res *= 2\n",
    "    return f'{res / 1000}m' \n",
    "a = int(input())\n",
    "num_layers(a)"
   ]
  },
  {
   "cell_type": "code",
   "execution_count": 7,
   "id": "8af89fa0",
   "metadata": {},
   "outputs": [
    {
     "name": "stdout",
     "output_type": "stream",
     "text": [
      "sUn\n"
     ]
    },
    {
     "data": {
      "text/plain": [
       "[1]"
      ]
     },
     "execution_count": 7,
     "metadata": {},
     "output_type": "execute_result"
    }
   ],
   "source": [
    "4.\n",
    "def index_of_caps(str1):\n",
    "    index = []\n",
    "    for letter in range(len(str1)):\n",
    "        if str1[letter].isupper() == True:\n",
    "            index.append(letter)\n",
    "    return index\n",
    "\n",
    "str1 = input()\n",
    "index_of_caps(str1)\n",
    "            "
   ]
  },
  {
   "cell_type": "code",
   "execution_count": 12,
   "id": "f777d4ad",
   "metadata": {},
   "outputs": [
    {
     "name": "stdout",
     "output_type": "stream",
     "text": [
      "4\n"
     ]
    },
    {
     "data": {
      "text/plain": [
       "[2, 4]"
      ]
     },
     "execution_count": 12,
     "metadata": {},
     "output_type": "execute_result"
    }
   ],
   "source": [
    "5.\n",
    "def find_even_nums(num):\n",
    "    c = [i for i in range(1,num+1) if i%2 == 0]\n",
    "    return c\n",
    "num = int(input())\n",
    "find_even_nums(num)"
   ]
  },
  {
   "cell_type": "code",
   "execution_count": null,
   "id": "f0934d5d",
   "metadata": {},
   "outputs": [],
   "source": []
  }
 ],
 "metadata": {
  "kernelspec": {
   "display_name": "Python 3",
   "language": "python",
   "name": "python3"
  },
  "language_info": {
   "codemirror_mode": {
    "name": "ipython",
    "version": 3
   },
   "file_extension": ".py",
   "mimetype": "text/x-python",
   "name": "python",
   "nbconvert_exporter": "python",
   "pygments_lexer": "ipython3",
   "version": "3.8.8"
  }
 },
 "nbformat": 4,
 "nbformat_minor": 5
}
