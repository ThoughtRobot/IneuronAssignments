{
 "cells": [
  {
   "cell_type": "code",
   "execution_count": 28,
   "id": "e53e2cb7",
   "metadata": {},
   "outputs": [
    {
     "name": "stdout",
     "output_type": "stream",
     "text": [
      "100\n",
      "0,35,70\n"
     ]
    }
   ],
   "source": [
    "1.\n",
    "def div(n):\n",
    "    for i in range(0,n):\n",
    "        if i%5 == 0 and i%7 == 0:\n",
    "            yield i\n",
    "n = int(input())\n",
    "print(\",\".join([str(j) for j in div(n)]))\n"
   ]
  },
  {
   "cell_type": "code",
   "execution_count": 29,
   "id": "27790d0e",
   "metadata": {},
   "outputs": [
    {
     "name": "stdout",
     "output_type": "stream",
     "text": [
      "10\n",
      "0,2,4,6,8,10\n"
     ]
    }
   ],
   "source": [
    "2.\n",
    "def even(n):\n",
    "    for i in range(0,n+1):\n",
    "        if i%2 == 0:\n",
    "            yield i\n",
    "n = int(input())\n",
    "print(\",\".join([str(j) for j in even(n)]))"
   ]
  },
  {
   "cell_type": "code",
   "execution_count": 9,
   "id": "045d52f9",
   "metadata": {},
   "outputs": [
    {
     "name": "stdout",
     "output_type": "stream",
     "text": [
      "7\n"
     ]
    },
    {
     "data": {
      "text/plain": [
       "[0, 1, 1, 2, 3, 5, 8, 13, 21]"
      ]
     },
     "execution_count": 9,
     "metadata": {},
     "output_type": "execute_result"
    }
   ],
   "source": [
    "3.\n",
    "def fib_seq(n):\n",
    "    mylist=[0,1]  \n",
    "    [mylist.append(mylist[-2]+mylist[-1]) for i in range(n)]\n",
    "    return mylist\n",
    "n = int(input())\n",
    "fib_seq(n)"
   ]
  },
  {
   "cell_type": "code",
   "execution_count": 2,
   "id": "6e687fcc",
   "metadata": {},
   "outputs": [
    {
     "name": "stdout",
     "output_type": "stream",
     "text": [
      "jeanbaptise@gmail.com\n"
     ]
    },
    {
     "data": {
      "text/plain": [
       "'jeanbaptise'"
      ]
     },
     "execution_count": 2,
     "metadata": {},
     "output_type": "execute_result"
    }
   ],
   "source": [
    "4.\n",
    "def user_name(e_id):\n",
    "    uname = e_id.split('@')[0]\n",
    "    return uname\n",
    "e_id = input()\n",
    "user_name(e_id)   "
   ]
  },
  {
   "cell_type": "code",
   "execution_count": 3,
   "id": "3b3d7823",
   "metadata": {},
   "outputs": [
    {
     "name": "stdout",
     "output_type": "stream",
     "text": [
      "25\n",
      "0\n"
     ]
    }
   ],
   "source": [
    "5.\n",
    "class Shape():\n",
    "    def __init__(self):\n",
    "        pass\n",
    "\n",
    "    def area(self):\n",
    "        return 0\n",
    "\n",
    "class Square(Shape):\n",
    "    def __init__(self,length = 0):\n",
    "        Shape.__init__(self)\n",
    "        self.length = length\n",
    "\n",
    "    def area(self):\n",
    "        return self.length*self.length\n",
    "\n",
    "Asqr = Square(5)\n",
    "print(Asqr.area())      \n",
    "print(Square().area())  "
   ]
  },
  {
   "cell_type": "code",
   "execution_count": null,
   "id": "71683f12",
   "metadata": {},
   "outputs": [],
   "source": []
  }
 ],
 "metadata": {
  "kernelspec": {
   "display_name": "Python 3",
   "language": "python",
   "name": "python3"
  },
  "language_info": {
   "codemirror_mode": {
    "name": "ipython",
    "version": 3
   },
   "file_extension": ".py",
   "mimetype": "text/x-python",
   "name": "python",
   "nbconvert_exporter": "python",
   "pygments_lexer": "ipython3",
   "version": "3.8.8"
  }
 },
 "nbformat": 4,
 "nbformat_minor": 5
}
