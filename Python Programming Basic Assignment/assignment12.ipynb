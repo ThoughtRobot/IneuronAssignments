{
 "cells": [
  {
   "cell_type": "code",
   "execution_count": 5,
   "id": "541ce795",
   "metadata": {},
   "outputs": [
    {
     "name": "stdout",
     "output_type": "stream",
     "text": [
      "{'fsdf', 'ttr'}\n"
     ]
    }
   ],
   "source": [
    "1.\n",
    "d = {1:'fsdf',\n",
    "    2:'ttr',\n",
    "    3:'ttr'}\n",
    "print(set(d.values()))"
   ]
  },
  {
   "cell_type": "code",
   "execution_count": 2,
   "id": "2a241b1a",
   "metadata": {},
   "outputs": [
    {
     "name": "stdout",
     "output_type": "stream",
     "text": [
      "600\n"
     ]
    }
   ],
   "source": [
    "2.\n",
    "summ = 0\n",
    "d = {'a':100,'b':200,'c':300}\n",
    "for item in d.values():\n",
    "    summ += item\n",
    "print(summ)"
   ]
  },
  {
   "cell_type": "code",
   "execution_count": 3,
   "id": "8c80c11c",
   "metadata": {},
   "outputs": [
    {
     "name": "stdout",
     "output_type": "stream",
     "text": [
      "{'a': 200, 4: 'b', 32: 'c', 'f': 300, 6: 'g', 35: 'l'}\n"
     ]
    }
   ],
   "source": [
    "3.\n",
    "d1 = {'a':200,4:'b',32:'c'}\n",
    "d2 = {'f':300,6:'g',35:'l'}\n",
    "d1.update(d2)\n",
    "print(d1)"
   ]
  },
  {
   "cell_type": "code",
   "execution_count": 9,
   "id": "9b5a26f2",
   "metadata": {},
   "outputs": [
    {
     "data": {
      "text/plain": [
       "{1: 'Jan', 2: 'Feb', 3: 'March'}"
      ]
     },
     "execution_count": 9,
     "metadata": {},
     "output_type": "execute_result"
    }
   ],
   "source": [
    "4.\n",
    "d3 = {'month' : [1, 2, 3],'name' : ['Jan', 'Feb', 'March']}\n",
    "dict(zip(d3['month'],d3['name']))\n",
    "  "
   ]
  },
  {
   "cell_type": "code",
   "execution_count": 12,
   "id": "ddba5104",
   "metadata": {},
   "outputs": [
    {
     "name": "stdout",
     "output_type": "stream",
     "text": [
      "OrderedDict([('c', 3), ('a', 1), ('b', 2)])\n"
     ]
    }
   ],
   "source": [
    "5.\n",
    "from collections import OrderedDict\n",
    "in_dict = OrderedDict([('a',1),('b',2)])\n",
    "in_dict.update({'c':3})\n",
    "in_dict.move_to_end('c',last = False)\n",
    "print(in_dict)"
   ]
  },
  {
   "cell_type": "code",
   "execution_count": 1,
   "id": "b1a9a614",
   "metadata": {},
   "outputs": [
    {
     "name": "stdout",
     "output_type": "stream",
     "text": [
      "False\n"
     ]
    }
   ],
   "source": [
    "6.\n",
    "from collections import OrderedDict \n",
    "string = 'Study tonight'\n",
    "pattern = 'stu'\n",
    "dic = OrderedDict.fromkeys(string) \n",
    "ptr = 0\n",
    "for key,value in dic.items(): \n",
    "    if (key == pattern[ptr]): \n",
    "        ptr = ptr + 1\n",
    "    if (ptr == (len(pattern))): \n",
    "        print('True')\n",
    "print('False')\n",
    "\n"
   ]
  },
  {
   "cell_type": "code",
   "execution_count": 2,
   "id": "0af7aa16",
   "metadata": {},
   "outputs": [
    {
     "name": "stdout",
     "output_type": "stream",
     "text": [
      "OrderedDict([('rajnish', '9'), ('ravi', '10'), ('sanjeev', '15'), ('suraj', '32'), ('yash', '2')])\n"
     ]
    }
   ],
   "source": [
    "7.\n",
    "from collections import OrderedDict\n",
    " \n",
    "dict = {'ravi':'10','rajnish':'9','sanjeev':'15','yash':'2','suraj':'32'}\n",
    "dict1 = OrderedDict(sorted(dict.items()))\n",
    "print(dict1)"
   ]
  },
  {
   "cell_type": "code",
   "execution_count": null,
   "id": "dfc0b36e",
   "metadata": {},
   "outputs": [],
   "source": []
  }
 ],
 "metadata": {
  "kernelspec": {
   "display_name": "Python 3",
   "language": "python",
   "name": "python3"
  },
  "language_info": {
   "codemirror_mode": {
    "name": "ipython",
    "version": 3
   },
   "file_extension": ".py",
   "mimetype": "text/x-python",
   "name": "python",
   "nbconvert_exporter": "python",
   "pygments_lexer": "ipython3",
   "version": "3.8.8"
  }
 },
 "nbformat": 4,
 "nbformat_minor": 5
}
