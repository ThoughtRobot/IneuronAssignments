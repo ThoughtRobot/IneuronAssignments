{
 "cells": [
  {
   "cell_type": "code",
   "execution_count": 1,
   "id": "a3435b82",
   "metadata": {},
   "outputs": [
    {
     "name": "stdout",
     "output_type": "stream",
     "text": [
      "incredible\n"
     ]
    },
    {
     "data": {
      "text/plain": [
       "'in... in... incredible?'"
      ]
     },
     "execution_count": 1,
     "metadata": {},
     "output_type": "execute_result"
    }
   ],
   "source": [
    "1.\n",
    "def stutter(word):\n",
    "    return f'{word[:2]}... {word[:2]}... {word}?'\n",
    "word = input()\n",
    "stutter(word)"
   ]
  },
  {
   "cell_type": "code",
   "execution_count": 6,
   "id": "7572b7db",
   "metadata": {},
   "outputs": [
    {
     "name": "stdout",
     "output_type": "stream",
     "text": [
      "20\n"
     ]
    },
    {
     "data": {
      "text/plain": [
       "1145.9"
      ]
     },
     "execution_count": 6,
     "metadata": {},
     "output_type": "execute_result"
    }
   ],
   "source": [
    "2.\n",
    "import math\n",
    "def radians_to_degrees(rad):\n",
    "    deg = rad * (180/math.pi)\n",
    "    return round(deg,1)\n",
    "rad = int(input())\n",
    "radians_to_degrees(rad)"
   ]
  },
  {
   "cell_type": "code",
   "execution_count": 11,
   "id": "e2adeea9",
   "metadata": {},
   "outputs": [
    {
     "name": "stdout",
     "output_type": "stream",
     "text": [
      "10\n"
     ]
    },
    {
     "data": {
      "text/plain": [
       "False"
      ]
     },
     "execution_count": 11,
     "metadata": {},
     "output_type": "execute_result"
    }
   ],
   "source": [
    "3.\n",
    "def is_curzon(N):\n",
    " \n",
    "    powerTerm, productTerm = 0, 0\n",
    "    powerTerm = pow(2, N) + 1\n",
    "    productTerm = 2 * N + 1\n",
    " \n",
    "    if (powerTerm % productTerm == 0):\n",
    "        return True\n",
    "    else:\n",
    "        return False\n",
    "\n",
    "n = int(input())\n",
    "is_curzon(n)"
   ]
  },
  {
   "cell_type": "code",
   "execution_count": 13,
   "id": "5d74799b",
   "metadata": {},
   "outputs": [
    {
     "name": "stdout",
     "output_type": "stream",
     "text": [
      "1\n"
     ]
    },
    {
     "data": {
      "text/plain": [
       "2.6"
      ]
     },
     "execution_count": 13,
     "metadata": {},
     "output_type": "execute_result"
    }
   ],
   "source": [
    "4.\n",
    "import math\n",
    "def area_of_hexagon(x):\n",
    "    a = (3*math.sqrt(3)*(x**2))/2\n",
    "    return round(a,1)\n",
    "x = int(input())\n",
    "area_of_hexagon(x)"
   ]
  },
  {
   "cell_type": "code",
   "execution_count": 12,
   "id": "2bdeb79d",
   "metadata": {},
   "outputs": [
    {
     "name": "stdout",
     "output_type": "stream",
     "text": [
      "5\n",
      "0101"
     ]
    }
   ],
   "source": [
    "5.\n",
    "def binary(num):\n",
    "    if num >= 1:\n",
    "        binary(num // 2)\n",
    "    print(num % 2, end = '')\n",
    "\n",
    "num = int(input())\n",
    "binary(num)\n",
    "\n"
   ]
  },
  {
   "cell_type": "code",
   "execution_count": null,
   "id": "fb0c72a7",
   "metadata": {},
   "outputs": [],
   "source": []
  }
 ],
 "metadata": {
  "kernelspec": {
   "display_name": "Python 3",
   "language": "python",
   "name": "python3"
  },
  "language_info": {
   "codemirror_mode": {
    "name": "ipython",
    "version": 3
   },
   "file_extension": ".py",
   "mimetype": "text/x-python",
   "name": "python",
   "nbconvert_exporter": "python",
   "pygments_lexer": "ipython3",
   "version": "3.8.8"
  }
 },
 "nbformat": 4,
 "nbformat_minor": 5
}
