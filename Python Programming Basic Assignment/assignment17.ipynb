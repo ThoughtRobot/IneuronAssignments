{
 "cells": [
  {
   "cell_type": "code",
   "execution_count": 7,
   "id": "36b58e6a",
   "metadata": {},
   "outputs": [
    {
     "name": "stdout",
     "output_type": "stream",
     "text": [
      "1\n",
      "10\n",
      "3\n"
     ]
    },
    {
     "data": {
      "text/plain": [
       "18"
      ]
     },
     "execution_count": 7,
     "metadata": {},
     "output_type": "execute_result"
    }
   ],
   "source": [
    "1.\n",
    "def evenly_divisible(a,b,c):\n",
    "    div = []\n",
    "    for i in range(a,b+1):\n",
    "        if i%c == 0:\n",
    "            div.append(i)\n",
    "    return sum(div)\n",
    "a = int(input())\n",
    "b = int(input())\n",
    "c = int(input())\n",
    "evenly_divisible(a,b,c)"
   ]
  },
  {
   "cell_type": "code",
   "execution_count": 12,
   "id": "3a21b3d6",
   "metadata": {},
   "outputs": [
    {
     "name": "stdout",
     "output_type": "stream",
     "text": [
      "2>7<15\n"
     ]
    },
    {
     "data": {
      "text/plain": [
       "False"
      ]
     },
     "execution_count": 12,
     "metadata": {},
     "output_type": "execute_result"
    }
   ],
   "source": [
    "2.\n",
    "def correct_signs(exp):\n",
    "    reg=eval(exp)\n",
    "    if reg:\n",
    "        return True\n",
    "    else:\n",
    "        return False \n",
    "exp = input()\n",
    "correct_signs(exp)"
   ]
  },
  {
   "cell_type": "code",
   "execution_count": 21,
   "id": "39b622b1",
   "metadata": {},
   "outputs": [
    {
     "name": "stdout",
     "output_type": "stream",
     "text": [
      "the aardvark\n",
      "#\n",
      "th# ##rdv#rk"
     ]
    }
   ],
   "source": [
    "3.\n",
    "def replace_vowels(word,char):\n",
    "    vowels = ['a','e','i','o','u','A','E','I','O','U']\n",
    "    for letters in range(len(word)):\n",
    "        if word[letters] in vowels:\n",
    "            print(char,end = \"\")\n",
    "        else:\n",
    "            print(word[letters],end = \"\")\n",
    "word = input()\n",
    "char = input()\n",
    "replace_vowels(word,char)\n"
   ]
  },
  {
   "cell_type": "code",
   "execution_count": 23,
   "id": "cc1fa5b8",
   "metadata": {},
   "outputs": [
    {
     "name": "stdout",
     "output_type": "stream",
     "text": [
      "5\n"
     ]
    },
    {
     "data": {
      "text/plain": [
       "120"
      ]
     },
     "execution_count": 23,
     "metadata": {},
     "output_type": "execute_result"
    }
   ],
   "source": [
    "4.\n",
    "def factorial(num):\n",
    "    if num == 0 or num == 1:\n",
    "        return 1\n",
    "    else:\n",
    "        return num * factorial(num-1)\n",
    "num = int(input())\n",
    "factorial(num)"
   ]
  },
  {
   "cell_type": "code",
   "execution_count": 27,
   "id": "90ca774a",
   "metadata": {},
   "outputs": [
    {
     "name": "stdout",
     "output_type": "stream",
     "text": [
      "abcde\n",
      "abcde\n"
     ]
    },
    {
     "data": {
      "text/plain": [
       "0"
      ]
     },
     "execution_count": 27,
     "metadata": {},
     "output_type": "execute_result"
    }
   ],
   "source": [
    "5.\n",
    "def hamming_distance(str1,str2):\n",
    "    i = 0\n",
    "    count = 0\n",
    " \n",
    "    while(i < len(str1)):\n",
    "        if(str1[i] != str2[i]):\n",
    "            count += 1\n",
    "        i += 1\n",
    "    return count\n",
    "\n",
    "str1 = input()\n",
    "str2 = input()\n",
    "hamming_distance(str1,str2)"
   ]
  },
  {
   "cell_type": "code",
   "execution_count": null,
   "id": "443289a3",
   "metadata": {},
   "outputs": [],
   "source": []
  },
  {
   "cell_type": "code",
   "execution_count": null,
   "id": "d14e1a9c",
   "metadata": {},
   "outputs": [],
   "source": []
  }
 ],
 "metadata": {
  "kernelspec": {
   "display_name": "Python 3",
   "language": "python",
   "name": "python3"
  },
  "language_info": {
   "codemirror_mode": {
    "name": "ipython",
    "version": 3
   },
   "file_extension": ".py",
   "mimetype": "text/x-python",
   "name": "python",
   "nbconvert_exporter": "python",
   "pygments_lexer": "ipython3",
   "version": "3.8.8"
  }
 },
 "nbformat": 4,
 "nbformat_minor": 5
}
